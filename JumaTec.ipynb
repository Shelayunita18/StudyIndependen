{
  "nbformat": 4,
  "nbformat_minor": 0,
  "metadata": {
    "colab": {
      "name": "JumaTec.ipynb",
      "provenance": [],
      "collapsed_sections": [],
      "include_colab_link": true
    },
    "kernelspec": {
      "name": "python3",
      "display_name": "Python 3"
    },
    "language_info": {
      "name": "python"
    }
  },
  "cells": [
    {
      "cell_type": "markdown",
      "metadata": {
        "id": "view-in-github",
        "colab_type": "text"
      },
      "source": [
        "<a href=\"https://colab.research.google.com/github/Shelayunita18/StudyIndependen/blob/main/JumaTec.ipynb\" target=\"_parent\"><img src=\"https://colab.research.google.com/assets/colab-badge.svg\" alt=\"Open In Colab\"/></a>"
      ]
    },
    {
      "cell_type": "code",
      "execution_count": null,
      "metadata": {
        "id": "ToifDZp7kzJD",
        "colab": {
          "base_uri": "https://localhost:8080/"
        },
        "outputId": "a878d7ca-2833-46e3-dd51-7b0cb672bf49"
      },
      "outputs": [
        {
          "output_type": "stream",
          "name": "stdout",
          "text": [
            "Hallo word\n"
          ]
        }
      ],
      "source": [
        "print (\"Hallo word\")\n",
        "\n",
        "print (\"Hallo word\")"
      ]
    },
    {
      "cell_type": "markdown",
      "source": [
        "##**test**\n",
        "\n",
        "---"
      ],
      "metadata": {
        "id": "oHrCG2OIlsRi"
      }
    },
    {
      "cell_type": "code",
      "source": [
        "print (\"Hallo word\")\n"
      ],
      "metadata": {
        "id": "hI7X9usAl4ON",
        "colab": {
          "base_uri": "https://localhost:8080/"
        },
        "outputId": "2252e051-32bd-42d9-f40f-24777f9a1e6b"
      },
      "execution_count": 1,
      "outputs": [
        {
          "output_type": "stream",
          "name": "stdout",
          "text": [
            "Hallo word\n"
          ]
        }
      ]
    }
  ]
}